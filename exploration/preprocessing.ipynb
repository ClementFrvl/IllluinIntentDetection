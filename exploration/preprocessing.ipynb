{
 "cells": [
  {
   "cell_type": "code",
   "execution_count": 53,
   "metadata": {},
   "outputs": [],
   "source": [
    "import pandas as pd\n",
    "import re\n",
    "\n",
    "df = pd.read_csv('../data/intent-detection-train.csv')"
   ]
  },
  {
   "cell_type": "code",
   "execution_count": 54,
   "metadata": {},
   "outputs": [],
   "source": [
    "countries = open('../data/countries.txt').read().split('\\n')\n",
    "\n",
    "# Lower\n",
    "countries = [country.lower() for country in countries if country]\n",
    "\n",
    "def substitute_country(text):\n",
    "    text = text.lower()\n",
    "    for country in countries:\n",
    "        text = re.sub(r'\\b' + country + r'\\b', '*country*', text)\n",
    "    return text\n",
    "\n",
    "df['text'] = df['text'].apply(substitute_country)\n",
    "\n",
    "airlines = open('../data/airlines.txt').read().split('\\n')\n",
    "airlines = [airline.lower() for airline in airlines if airline]\n",
    "\n",
    "def substitute_airline(text):\n",
    "    text = text.lower()\n",
    "    for airline in airlines:\n",
    "        text = re.sub(r'\\b' + airline + r'\\b', '*airline*', text)\n",
    "    return text\n",
    "\n",
    "df['text'] = df['text'].apply(substitute_airline)\n",
    "\n",
    "flight_number_pattern = re.compile(r'([a-zA-Z]{2,3}\\d{3,4})')\n",
    "\n",
    "def substitute_flight_number(text):\n",
    "    return re.sub(flight_number_pattern, '*flight_number*', text)\n",
    "\n",
    "df['text'] = df['text'].apply(substitute_flight_number)\n",
    "\n",
    "df.to_csv('../data/processed.csv', index=False)"
   ]
  },
  {
   "cell_type": "code",
   "execution_count": 56,
   "metadata": {},
   "outputs": [
    {
     "data": {
      "text/plain": [
       "'Je viens de France *flight_number*'"
      ]
     },
     "execution_count": 56,
     "metadata": {},
     "output_type": "execute_result"
    }
   ],
   "source": [
    "substitute_flight_number('Je viens de France AA123')"
   ]
  },
  {
   "cell_type": "code",
   "execution_count": null,
   "metadata": {},
   "outputs": [],
   "source": []
  }
 ],
 "metadata": {
  "kernelspec": {
   "display_name": ".venv",
   "language": "python",
   "name": "python3"
  },
  "language_info": {
   "codemirror_mode": {
    "name": "ipython",
    "version": 3
   },
   "file_extension": ".py",
   "mimetype": "text/x-python",
   "name": "python",
   "nbconvert_exporter": "python",
   "pygments_lexer": "ipython3",
   "version": "3.9.6"
  }
 },
 "nbformat": 4,
 "nbformat_minor": 2
}
